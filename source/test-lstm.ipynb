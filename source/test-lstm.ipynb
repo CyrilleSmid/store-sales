{
 "cells": [
  {
   "cell_type": "code",
   "execution_count": 6,
   "metadata": {},
   "outputs": [
    {
     "ename": "ModuleNotFoundError",
     "evalue": "No module named 'tensorflow'",
     "output_type": "error",
     "traceback": [
      "\u001b[1;31m---------------------------------------------------------------------------\u001b[0m",
      "\u001b[1;31mModuleNotFoundError\u001b[0m                       Traceback (most recent call last)",
      "Cell \u001b[1;32mIn [6], line 24\u001b[0m\n\u001b[0;32m      8\u001b[0m \u001b[39m# Models\u001b[39;00m\n\u001b[0;32m      9\u001b[0m \u001b[39m# from sklearn.linear_model import LogisticRegression \u001b[39;00m\n\u001b[0;32m     10\u001b[0m \u001b[39m# from sklearn.linear_model import Perceptron\u001b[39;00m\n\u001b[1;32m   (...)\u001b[0m\n\u001b[0;32m     20\u001b[0m \u001b[39m# from sklearn.neural_network import MLPClassifier\u001b[39;00m\n\u001b[0;32m     21\u001b[0m \u001b[39m# from sklearn.gaussian_process import GaussianProcessRegressor\u001b[39;00m\n\u001b[0;32m     22\u001b[0m \u001b[39mfrom\u001b[39;00m \u001b[39msklearn\u001b[39;00m\u001b[39m.\u001b[39;00m\u001b[39mmodel_selection\u001b[39;00m \u001b[39mimport\u001b[39;00m train_test_split \n\u001b[1;32m---> 24\u001b[0m \u001b[39mimport\u001b[39;00m \u001b[39mkeras\u001b[39;00m\n\u001b[0;32m     25\u001b[0m \u001b[39mimport\u001b[39;00m \u001b[39mkeras\u001b[39;00m\u001b[39m.\u001b[39;00m\u001b[39mbackend\u001b[39;00m \u001b[39mas\u001b[39;00m \u001b[39mK\u001b[39;00m \n\u001b[0;32m     27\u001b[0m \u001b[39m# Model Helpers\u001b[39;00m\n\u001b[0;32m     28\u001b[0m \u001b[39m# from sklearn.model_selection import KFold \u001b[39;00m\n\u001b[0;32m     29\u001b[0m \u001b[39m# from sklearn.model_selection import cross_val_score \u001b[39;00m\n\u001b[1;32m   (...)\u001b[0m\n\u001b[0;32m     34\u001b[0m \u001b[39m# from sklearn import model_selection\u001b[39;00m\n\u001b[0;32m     35\u001b[0m \u001b[39m# from sklearn import metrics\u001b[39;00m\n",
      "File \u001b[1;32mc:\\Users\\Cyril\\miniconda3\\envs\\data-science-3-9\\lib\\site-packages\\keras\\__init__.py:20\u001b[0m\n\u001b[0;32m      1\u001b[0m \u001b[39m# Copyright 2015 The TensorFlow Authors. All Rights Reserved.\u001b[39;00m\n\u001b[0;32m      2\u001b[0m \u001b[39m#\u001b[39;00m\n\u001b[0;32m      3\u001b[0m \u001b[39m# Licensed under the Apache License, Version 2.0 (the \"License\");\u001b[39;00m\n\u001b[1;32m   (...)\u001b[0m\n\u001b[0;32m     13\u001b[0m \u001b[39m# limitations under the License.\u001b[39;00m\n\u001b[0;32m     14\u001b[0m \u001b[39m# ==============================================================================\u001b[39;00m\n\u001b[0;32m     15\u001b[0m \u001b[39m\"\"\"Implementation of the Keras API, the high-level API of TensorFlow.\u001b[39;00m\n\u001b[0;32m     16\u001b[0m \n\u001b[0;32m     17\u001b[0m \u001b[39mDetailed documentation and user guides are available at\u001b[39;00m\n\u001b[0;32m     18\u001b[0m \u001b[39m[keras.io](https://keras.io).\u001b[39;00m\n\u001b[0;32m     19\u001b[0m \u001b[39m\"\"\"\u001b[39;00m\n\u001b[1;32m---> 20\u001b[0m \u001b[39mfrom\u001b[39;00m \u001b[39mkeras\u001b[39;00m \u001b[39mimport\u001b[39;00m distribute\n\u001b[0;32m     21\u001b[0m \u001b[39mfrom\u001b[39;00m \u001b[39mkeras\u001b[39;00m \u001b[39mimport\u001b[39;00m models\n\u001b[0;32m     22\u001b[0m \u001b[39mfrom\u001b[39;00m \u001b[39mkeras\u001b[39;00m\u001b[39m.\u001b[39;00m\u001b[39mengine\u001b[39;00m\u001b[39m.\u001b[39;00m\u001b[39minput_layer\u001b[39;00m \u001b[39mimport\u001b[39;00m Input\n",
      "File \u001b[1;32mc:\\Users\\Cyril\\miniconda3\\envs\\data-science-3-9\\lib\\site-packages\\keras\\distribute\\__init__.py:18\u001b[0m\n\u001b[0;32m      1\u001b[0m \u001b[39m# Copyright 2019 The TensorFlow Authors. All Rights Reserved.\u001b[39;00m\n\u001b[0;32m      2\u001b[0m \u001b[39m#\u001b[39;00m\n\u001b[0;32m      3\u001b[0m \u001b[39m# Licensed under the Apache License, Version 2.0 (the \"License\");\u001b[39;00m\n\u001b[1;32m   (...)\u001b[0m\n\u001b[0;32m     13\u001b[0m \u001b[39m# limitations under the License.\u001b[39;00m\n\u001b[0;32m     14\u001b[0m \u001b[39m# ==============================================================================\u001b[39;00m\n\u001b[0;32m     15\u001b[0m \u001b[39m\"\"\"Keras' Distribution Strategy library.\"\"\"\u001b[39;00m\n\u001b[1;32m---> 18\u001b[0m \u001b[39mfrom\u001b[39;00m \u001b[39mkeras\u001b[39;00m\u001b[39m.\u001b[39;00m\u001b[39mdistribute\u001b[39;00m \u001b[39mimport\u001b[39;00m sidecar_evaluator\n",
      "File \u001b[1;32mc:\\Users\\Cyril\\miniconda3\\envs\\data-science-3-9\\lib\\site-packages\\keras\\distribute\\sidecar_evaluator.py:17\u001b[0m\n\u001b[0;32m      1\u001b[0m \u001b[39m# Copyright 2020 The TensorFlow Authors. All Rights Reserved.\u001b[39;00m\n\u001b[0;32m      2\u001b[0m \u001b[39m#\u001b[39;00m\n\u001b[0;32m      3\u001b[0m \u001b[39m# Licensed under the Apache License, Version 2.0 (the \"License\");\u001b[39;00m\n\u001b[1;32m   (...)\u001b[0m\n\u001b[0;32m     13\u001b[0m \u001b[39m# limitations under the License.\u001b[39;00m\n\u001b[0;32m     14\u001b[0m \u001b[39m# ==============================================================================\u001b[39;00m\n\u001b[0;32m     15\u001b[0m \u001b[39m\"\"\"Python module for evaluation loop.\"\"\"\u001b[39;00m\n\u001b[1;32m---> 17\u001b[0m \u001b[39mimport\u001b[39;00m \u001b[39mtensorflow\u001b[39;00m\u001b[39m.\u001b[39;00m\u001b[39mcompat\u001b[39;00m\u001b[39m.\u001b[39;00m\u001b[39mv2\u001b[39;00m \u001b[39mas\u001b[39;00m \u001b[39mtf\u001b[39;00m\n\u001b[0;32m     19\u001b[0m \u001b[39m# isort: off\u001b[39;00m\n\u001b[0;32m     20\u001b[0m \u001b[39mfrom\u001b[39;00m \u001b[39mtensorflow\u001b[39;00m\u001b[39m.\u001b[39;00m\u001b[39mpython\u001b[39;00m\u001b[39m.\u001b[39;00m\u001b[39mplatform\u001b[39;00m \u001b[39mimport\u001b[39;00m tf_logging \u001b[39mas\u001b[39;00m logging\n",
      "\u001b[1;31mModuleNotFoundError\u001b[0m: No module named 'tensorflow'"
     ]
    }
   ],
   "source": [
    "# Data\n",
    "import numpy as np\n",
    "np.set_printoptions(precision=2, suppress=True)\n",
    "import pandas as pd\n",
    "\n",
    "pd.set_option('display.max_rows', 60)\n",
    "\n",
    "# Models\n",
    "# from sklearn.linear_model import LogisticRegression \n",
    "# from sklearn.linear_model import Perceptron\n",
    "# from sklearn import svm #Support Vector Machine\n",
    "# from sklearn.ensemble import RandomForestClassifier \n",
    "# from sklearn.neighbors import KNeighborsClassifier #KNN\n",
    "# from sklearn.naive_bayes import GaussianNB #Naive bayes\n",
    "# from sklearn.tree import DecisionTreeClassifier #Decision Tree\n",
    "# from sklearn import metrics #accuracy measure\n",
    "# from sklearn.metrics import confusion_matrix \n",
    "# from sklearn.ensemble import VotingClassifier\n",
    "# from sklearn.ensemble import AdaBoostClassifier\n",
    "# from sklearn.neural_network import MLPClassifier\n",
    "# from sklearn.gaussian_process import GaussianProcessRegressor\n",
    "from sklearn.model_selection import train_test_split \n",
    "\n",
    "import keras\n",
    "import keras.backend as K \n",
    "\n",
    "# Model Helpers\n",
    "# from sklearn.model_selection import KFold \n",
    "# from sklearn.model_selection import cross_val_score \n",
    "# from sklearn.model_selection import cross_val_predict \n",
    "# from sklearn.model_selection import cross_validate\n",
    "# from sklearn.model_selection import GridSearchCV\n",
    "# from sklearn import feature_selection\n",
    "# from sklearn import model_selection\n",
    "# from sklearn import metrics\n",
    "from keras.preprocessing.sequence import TimeseriesGenerator\n",
    "from sklearn.preprocessing import MinMaxScaler, LabelEncoder\n",
    "\n",
    "#Other\n",
    "import re\n",
    "from tqdm import tqdm\n",
    "from keras.utils.vis_utils import plot_model\n"
   ]
  },
  {
   "cell_type": "code",
   "execution_count": 3,
   "metadata": {},
   "outputs": [
    {
     "data": {
      "text/html": [
       "<div>\n",
       "<style scoped>\n",
       "    .dataframe tbody tr th:only-of-type {\n",
       "        vertical-align: middle;\n",
       "    }\n",
       "\n",
       "    .dataframe tbody tr th {\n",
       "        vertical-align: top;\n",
       "    }\n",
       "\n",
       "    .dataframe thead th {\n",
       "        text-align: right;\n",
       "    }\n",
       "</style>\n",
       "<table border=\"1\" class=\"dataframe\">\n",
       "  <thead>\n",
       "    <tr style=\"text-align: right;\">\n",
       "      <th></th>\n",
       "      <th>date</th>\n",
       "      <th>store_nbr</th>\n",
       "      <th>family</th>\n",
       "      <th>sales</th>\n",
       "      <th>onpromotion</th>\n",
       "      <th>dcoilwtico</th>\n",
       "      <th>event_day</th>\n",
       "      <th>day_off</th>\n",
       "    </tr>\n",
       "  </thead>\n",
       "  <tbody>\n",
       "    <tr>\n",
       "      <th>0</th>\n",
       "      <td>2013-01-01</td>\n",
       "      <td>1</td>\n",
       "      <td>AUTOMOTIVE</td>\n",
       "      <td>0.0</td>\n",
       "      <td>0</td>\n",
       "      <td>93.14</td>\n",
       "      <td>1</td>\n",
       "      <td>1</td>\n",
       "    </tr>\n",
       "    <tr>\n",
       "      <th>1</th>\n",
       "      <td>2013-01-01</td>\n",
       "      <td>1</td>\n",
       "      <td>BABY CARE</td>\n",
       "      <td>0.0</td>\n",
       "      <td>0</td>\n",
       "      <td>93.14</td>\n",
       "      <td>1</td>\n",
       "      <td>1</td>\n",
       "    </tr>\n",
       "    <tr>\n",
       "      <th>2</th>\n",
       "      <td>2013-01-01</td>\n",
       "      <td>1</td>\n",
       "      <td>BEAUTY</td>\n",
       "      <td>0.0</td>\n",
       "      <td>0</td>\n",
       "      <td>93.14</td>\n",
       "      <td>1</td>\n",
       "      <td>1</td>\n",
       "    </tr>\n",
       "    <tr>\n",
       "      <th>3</th>\n",
       "      <td>2013-01-01</td>\n",
       "      <td>1</td>\n",
       "      <td>BEVERAGES</td>\n",
       "      <td>0.0</td>\n",
       "      <td>0</td>\n",
       "      <td>93.14</td>\n",
       "      <td>1</td>\n",
       "      <td>1</td>\n",
       "    </tr>\n",
       "    <tr>\n",
       "      <th>4</th>\n",
       "      <td>2013-01-01</td>\n",
       "      <td>1</td>\n",
       "      <td>BOOKS</td>\n",
       "      <td>0.0</td>\n",
       "      <td>0</td>\n",
       "      <td>93.14</td>\n",
       "      <td>1</td>\n",
       "      <td>1</td>\n",
       "    </tr>\n",
       "  </tbody>\n",
       "</table>\n",
       "</div>"
      ],
      "text/plain": [
       "        date  store_nbr      family  sales  onpromotion  dcoilwtico  \\\n",
       "0 2013-01-01          1  AUTOMOTIVE    0.0            0       93.14   \n",
       "1 2013-01-01          1   BABY CARE    0.0            0       93.14   \n",
       "2 2013-01-01          1      BEAUTY    0.0            0       93.14   \n",
       "3 2013-01-01          1   BEVERAGES    0.0            0       93.14   \n",
       "4 2013-01-01          1       BOOKS    0.0            0       93.14   \n",
       "\n",
       "   event_day  day_off  \n",
       "0          1        1  \n",
       "1          1        1  \n",
       "2          1        1  \n",
       "3          1        1  \n",
       "4          1        1  "
      ]
     },
     "execution_count": 3,
     "metadata": {},
     "output_type": "execute_result"
    }
   ],
   "source": [
    "df = pd.read_csv(\"../datasets/train_combined.csv\", parse_dates=True)\n",
    "df[\"date\"] = pd.to_datetime(df[\"date\"])\n",
    "df[\"event_day\"] = df[\"event_day\"].astype(int)\n",
    "df[\"day_off\"] = df[\"day_off\"].astype(int)\n",
    "\n",
    "df = df.drop([\"id\", \"city\", \"state\", \"cluster\", \"type\"], axis=1)\n",
    "df.head()"
   ]
  },
  {
   "cell_type": "code",
   "execution_count": 4,
   "metadata": {},
   "outputs": [
    {
     "data": {
      "text/html": [
       "<div>\n",
       "<style scoped>\n",
       "    .dataframe tbody tr th:only-of-type {\n",
       "        vertical-align: middle;\n",
       "    }\n",
       "\n",
       "    .dataframe tbody tr th {\n",
       "        vertical-align: top;\n",
       "    }\n",
       "\n",
       "    .dataframe thead th {\n",
       "        text-align: right;\n",
       "    }\n",
       "</style>\n",
       "<table border=\"1\" class=\"dataframe\">\n",
       "  <thead>\n",
       "    <tr style=\"text-align: right;\">\n",
       "      <th></th>\n",
       "      <th>store_nbr</th>\n",
       "      <th>family</th>\n",
       "      <th>sales</th>\n",
       "      <th>onpromotion</th>\n",
       "      <th>dcoilwtico</th>\n",
       "      <th>event_day</th>\n",
       "      <th>day_off</th>\n",
       "    </tr>\n",
       "    <tr>\n",
       "      <th>date</th>\n",
       "      <th></th>\n",
       "      <th></th>\n",
       "      <th></th>\n",
       "      <th></th>\n",
       "      <th></th>\n",
       "      <th></th>\n",
       "      <th></th>\n",
       "    </tr>\n",
       "  </thead>\n",
       "  <tbody>\n",
       "    <tr>\n",
       "      <th>2013-01-01</th>\n",
       "      <td>1</td>\n",
       "      <td>0</td>\n",
       "      <td>0.0</td>\n",
       "      <td>0.0</td>\n",
       "      <td>0.792965</td>\n",
       "      <td>1</td>\n",
       "      <td>1</td>\n",
       "    </tr>\n",
       "    <tr>\n",
       "      <th>2013-01-01</th>\n",
       "      <td>1</td>\n",
       "      <td>1</td>\n",
       "      <td>0.0</td>\n",
       "      <td>0.0</td>\n",
       "      <td>0.792965</td>\n",
       "      <td>1</td>\n",
       "      <td>1</td>\n",
       "    </tr>\n",
       "    <tr>\n",
       "      <th>2013-01-01</th>\n",
       "      <td>1</td>\n",
       "      <td>2</td>\n",
       "      <td>0.0</td>\n",
       "      <td>0.0</td>\n",
       "      <td>0.792965</td>\n",
       "      <td>1</td>\n",
       "      <td>1</td>\n",
       "    </tr>\n",
       "    <tr>\n",
       "      <th>2013-01-01</th>\n",
       "      <td>1</td>\n",
       "      <td>3</td>\n",
       "      <td>0.0</td>\n",
       "      <td>0.0</td>\n",
       "      <td>0.792965</td>\n",
       "      <td>1</td>\n",
       "      <td>1</td>\n",
       "    </tr>\n",
       "    <tr>\n",
       "      <th>2013-01-01</th>\n",
       "      <td>1</td>\n",
       "      <td>4</td>\n",
       "      <td>0.0</td>\n",
       "      <td>0.0</td>\n",
       "      <td>0.792965</td>\n",
       "      <td>1</td>\n",
       "      <td>1</td>\n",
       "    </tr>\n",
       "  </tbody>\n",
       "</table>\n",
       "</div>"
      ],
      "text/plain": [
       "            store_nbr  family  sales  onpromotion  dcoilwtico  event_day  \\\n",
       "date                                                                       \n",
       "2013-01-01          1       0    0.0          0.0    0.792965          1   \n",
       "2013-01-01          1       1    0.0          0.0    0.792965          1   \n",
       "2013-01-01          1       2    0.0          0.0    0.792965          1   \n",
       "2013-01-01          1       3    0.0          0.0    0.792965          1   \n",
       "2013-01-01          1       4    0.0          0.0    0.792965          1   \n",
       "\n",
       "            day_off  \n",
       "date                 \n",
       "2013-01-01        1  \n",
       "2013-01-01        1  \n",
       "2013-01-01        1  \n",
       "2013-01-01        1  \n",
       "2013-01-01        1  "
      ]
     },
     "execution_count": 4,
     "metadata": {},
     "output_type": "execute_result"
    }
   ],
   "source": [
    "scaled_df = df.copy()\n",
    "\n",
    "feature_scaler = MinMaxScaler()\n",
    "fearure_cols = [\"sales\", \"onpromotion\", \"dcoilwtico\"]\n",
    "scaled_df.loc[:, fearure_cols] = feature_scaler.fit_transform(scaled_df[fearure_cols])\n",
    "\n",
    "label_encoder = LabelEncoder()\n",
    "scaled_df[\"family\"] = label_encoder.fit_transform(scaled_df[\"family\"])\n",
    "\n",
    "scaled_df.set_index(\"date\", drop=True, inplace=True)\n",
    "\n",
    "scaled_df.head()"
   ]
  },
  {
   "cell_type": "code",
   "execution_count": 9,
   "metadata": {},
   "outputs": [
    {
     "name": "stderr",
     "output_type": "stream",
     "text": [
      "store: 1, family: 0:   0%|          | 0/1782 [00:00<?, ?it/s]"
     ]
    },
    {
     "name": "stdout",
     "output_type": "stream",
     "text": [
      "[0.]\n"
     ]
    },
    {
     "name": "stderr",
     "output_type": "stream",
     "text": [
      "\n"
     ]
    }
   ],
   "source": [
    "# ts_list = []\n",
    "def refactor_ts(df, \n",
    "                win_length = 3,\n",
    "                batch_size = 2,\n",
    "                num_features = 4):\n",
    "    groups = df.groupby([\"store_nbr\", \"family\"])\n",
    "\n",
    "    X_features = []\n",
    "    X_store_nbrs = []\n",
    "    X_family_indices = []\n",
    "    y_targets = []\n",
    "    num_unique_stores = df[\"store_nbr\"].nunique()\n",
    "    num_unique_families = df[\"family\"].nunique()\n",
    "\n",
    "    with tqdm(total=num_unique_stores * num_unique_families) as pbar:\n",
    "        for name, group in groups:\n",
    "            store_nbr, family = name\n",
    "            pbar.set_description(f\"store: {store_nbr}, family: {family}\")\n",
    "            y_group= group[\"sales\"].to_numpy()\n",
    "            X_group = group.drop([\"store_nbr\", \"family\", \"sales\"], axis=1).to_numpy()\n",
    "            ts_generator = TimeseriesGenerator(X_group, y_group, \n",
    "                                            length=win_length,\n",
    "                                            sampling_rate=1,\n",
    "                                            batch_size=batch_size)\n",
    "            # ts_list.extend([(np.array([store_nbr, family]), X[0], y) for X, y in ts_generator])\n",
    "                           \n",
    "            for X, y in ts_generator:\n",
    "                print(y)\n",
    "                X_features.append(X[0])\n",
    "                X_store_nbrs.append(store_nbr)\n",
    "                X_family_indices.append(family)\n",
    "                y_targets.append(y)\n",
    "                break\n",
    "            break  \n",
    "            pbar.update(1)\n",
    "    X_features = np.array(X_features)\n",
    "    X_store_nbrs = np.array(X_store_nbrs)\n",
    "    X_family_indices = np.array(X_family_indices)\n",
    "    y_targets = np.array(y_targets)\n",
    "    return (X_features, X_store_nbrs, X_family_indices, y_targets)\n",
    "\n",
    "X_features, X_store_nbrs, X_family_indices, y_targets = refactor_ts(scaled_df)\n",
    "    "
   ]
  },
  {
   "cell_type": "code",
   "execution_count": 39,
   "metadata": {},
   "outputs": [
    {
     "name": "stdout",
     "output_type": "stream",
     "text": [
      "Tensor(\"Placeholder:0\", shape=(None, 3, 4), dtype=float32)\n"
     ]
    }
   ],
   "source": [
    "num_unique_stores = df[\"store_nbr\"].nunique()\n",
    "num_unique_families = df[\"family\"].nunique()\n",
    "\n",
    "embed_store_dim = 30\n",
    "inp_embedding_store = keras.layers.Input(shape=(1,))\n",
    "out_store = keras.layers.Embedding(num_unique_stores + 1, \n",
    "                                   embed_store_dim, \n",
    "                                   name=\"store_embedding\")(inp_embedding_store)\n",
    "out_store = keras.layers.SpatialDropout1D(0.3)(out_store)\n",
    "out_store = keras.layers.Reshape(target_shape=(embed_store_dim,))(out_store)\n",
    "\n",
    "embed_family_dim = 20\n",
    "inp_embedding_family = keras.layers.Input(shape=(1,))\n",
    "out_family = keras.layers.Embedding(num_unique_families + 1, \n",
    "                                   embed_family_dim, \n",
    "                                   name=\"family_embedding\")(inp_embedding_family)\n",
    "out_family = keras.layers.SpatialDropout1D(0.3)(out_family)\n",
    "out_family = keras.layers.Reshape(target_shape=(embed_family_dim,))(out_family)\n",
    "\n",
    "# out_combined = keras.layers.Concatenate(axis=1)([out_store, out_family])\n",
    "\n",
    "input_main = keras.layers.Input(shape=(win_length, num_features))\n",
    "\n",
    "def combine(x):\n",
    "    input_main, out_store, out_family = x\n",
    "    print(input_main)\n",
    "    out_combined = tf.concat([out_store, out_family], axis=1)\n",
    "    \n",
    "    repeated_out_combined = tf.broadcast_to(out_combined,(input_main.shape[1],out_combined.shape[1]))\n",
    "    repeated_out_combined = tf.reshape(repeated_out_combined, [-1, repeated_out_combined.shape[0], repeated_out_combined.shape[1]])\n",
    "    \n",
    "    input_main = tf.cast(input_main, tf.float32) \n",
    "    repeated_out_combined = tf.cast(repeated_out_combined, tf.float32)     \n",
    "    return tf.concat([input_main, repeated_out_combined],axis=2)\n",
    "\n",
    "out = keras.layers.Lambda(combine)([input_main, out_store, out_family])\n",
    "\n",
    "out = keras.layers.LSTM(128, activation=\"relu\", return_sequences=True)(out)\n",
    "out = keras.layers.LSTM(64, activation=\"relu\")(out)\n",
    "out = keras.layers.Dropout(0.2)(out)\n",
    "out = keras.layers.Dense(1, activation=\"relu\")(out)\n",
    "\n",
    "model = keras.Model(inputs=[input_main, inp_embedding_store, inp_embedding_family],\n",
    "                    outputs=out)\n",
    "model.compile(optimizer=\"adam\", loss=\"mse\")"
   ]
  },
  {
   "cell_type": "code",
   "execution_count": 10,
   "metadata": {},
   "outputs": [
    {
     "data": {
      "text/plain": [
       "(1, 1, 3, 4)"
      ]
     },
     "execution_count": 10,
     "metadata": {},
     "output_type": "execute_result"
    }
   ],
   "source": [
    "X_features.shape"
   ]
  },
  {
   "cell_type": "code",
   "execution_count": 35,
   "metadata": {},
   "outputs": [
    {
     "name": "stdout",
     "output_type": "stream",
     "text": [
      "<tf.Variable 'Variable:0' shape=(1, 3) dtype=float32, numpy=array([[0.1, 0.3, 0.6]], dtype=float32)> <tf.Variable 'Variable:0' shape=(1, 2) dtype=float32, numpy=array([[0.8, 0.7]], dtype=float32)>\n",
      "tf.Tensor(\n",
      "[[[0.1 0.3 0.6 0.8 0.7]\n",
      "  [0.1 0.3 0.6 0.8 0.7]\n",
      "  [0.1 0.3 0.6 0.8 0.7]]], shape=(1, 3, 5), dtype=float32)\n"
     ]
    },
    {
     "data": {
      "text/plain": [
       "<tf.Tensor: shape=(1, 3, 9), dtype=float32, numpy=\n",
       "array([[[0.  , 0.81, 0.  , 0.  , 0.1 , 0.3 , 0.6 , 0.8 , 0.7 ],\n",
       "        [0.  , 0.8 , 0.  , 0.  , 0.1 , 0.3 , 0.6 , 0.8 , 0.7 ],\n",
       "        [0.  , 0.79, 0.  , 1.  , 0.1 , 0.3 , 0.6 , 0.8 , 0.7 ]]],\n",
       "      dtype=float32)>"
      ]
     },
     "execution_count": 35,
     "metadata": {},
     "output_type": "execute_result"
    }
   ],
   "source": [
    "def combine(x):\n",
    "    input_main, out_store, out_family = x\n",
    "    print(out_store, out_family)\n",
    "    out_combined = tf.concat([out_store, out_family], axis=1)\n",
    "    \n",
    "    repeated_out_combined = tf.broadcast_to(out_combined,(input_main.shape[1],out_combined.shape[1]))\n",
    "    repeated_out_combined = tf.reshape(repeated_out_combined, [-1, repeated_out_combined.shape[0], repeated_out_combined.shape[1]])\n",
    "    \n",
    "    input_main = tf.cast(input_main, tf.float32) \n",
    "    repeated_out_combined = tf.cast(repeated_out_combined, tf.float32)   \n",
    "    print(repeated_out_combined)  \n",
    "    return tf.concat([input_main, repeated_out_combined],axis=2)\n",
    "\n",
    "combine([tf.Variable(X_features[320000]),\n",
    "         tf.Variable([[0.1, 0.3, 0.6]]), \n",
    "         tf.Variable([[0.8, 0.7]])])"
   ]
  },
  {
   "cell_type": "code",
   "execution_count": 30,
   "metadata": {},
   "outputs": [
    {
     "data": {
      "text/plain": [
       "<tf.Variable 'Variable:0' shape=(1, 3, 4) dtype=float64, numpy=\n",
       "array([[[0.  , 0.81, 0.  , 0.  ],\n",
       "        [0.  , 0.8 , 0.  , 0.  ],\n",
       "        [0.  , 0.79, 0.  , 1.  ]]])>"
      ]
     },
     "execution_count": 30,
     "metadata": {},
     "output_type": "execute_result"
    }
   ],
   "source": [
    "tf.Variable(X_features[320000])"
   ]
  },
  {
   "cell_type": "code",
   "execution_count": 36,
   "metadata": {},
   "outputs": [
    {
     "ename": "ValueError",
     "evalue": "in user code:\n\n    File \"c:\\Users\\Cyril\\anaconda3\\envs\\DataScience3_9\\lib\\site-packages\\keras\\engine\\training.py\", line 1051, in train_function  *\n        return step_function(self, iterator)\n    File \"c:\\Users\\Cyril\\anaconda3\\envs\\DataScience3_9\\lib\\site-packages\\keras\\engine\\training.py\", line 1040, in step_function  **\n        outputs = model.distribute_strategy.run(run_step, args=(data,))\n    File \"c:\\Users\\Cyril\\anaconda3\\envs\\DataScience3_9\\lib\\site-packages\\keras\\engine\\training.py\", line 1030, in run_step  **\n        outputs = model.train_step(data)\n    File \"c:\\Users\\Cyril\\anaconda3\\envs\\DataScience3_9\\lib\\site-packages\\keras\\engine\\training.py\", line 889, in train_step\n        y_pred = self(x, training=True)\n    File \"c:\\Users\\Cyril\\anaconda3\\envs\\DataScience3_9\\lib\\site-packages\\keras\\utils\\traceback_utils.py\", line 67, in error_handler\n        raise e.with_traceback(filtered_tb) from None\n    File \"c:\\Users\\Cyril\\anaconda3\\envs\\DataScience3_9\\lib\\site-packages\\keras\\engine\\input_spec.py\", line 264, in assert_input_compatibility\n        raise ValueError(f'Input {input_index} of layer \"{layer_name}\" is '\n\n    ValueError: Input 0 of layer \"model_1\" is incompatible with the layer: expected shape=(None, 3, 4), found shape=(1, 1, 3, 4)\n",
     "output_type": "error",
     "traceback": [
      "\u001b[1;31m---------------------------------------------------------------------------\u001b[0m",
      "\u001b[1;31mValueError\u001b[0m                                Traceback (most recent call last)",
      "\u001b[1;32mc:\\dev\\Projects\\store-sales-competition\\source\\test-lstm.ipynb Cell 9\u001b[0m in \u001b[0;36m<cell line: 1>\u001b[1;34m()\u001b[0m\n\u001b[1;32m----> <a href='vscode-notebook-cell:/c%3A/dev/Projects/store-sales-competition/source/test-lstm.ipynb#W5sZmlsZQ%3D%3D?line=0'>1</a>\u001b[0m model\u001b[39m.\u001b[39;49mfit([X_features, X_store_nbrs, X_family_indices], y_targets,\n\u001b[0;32m      <a href='vscode-notebook-cell:/c%3A/dev/Projects/store-sales-competition/source/test-lstm.ipynb#W5sZmlsZQ%3D%3D?line=1'>2</a>\u001b[0m           epochs\u001b[39m=\u001b[39;49m\u001b[39m1\u001b[39;49m, batch_size\u001b[39m=\u001b[39;49m\u001b[39m1\u001b[39;49m, validation_split\u001b[39m=\u001b[39;49m\u001b[39m0.1\u001b[39;49m, verbose\u001b[39m=\u001b[39;49m\u001b[39m1\u001b[39;49m)\n",
      "File \u001b[1;32mc:\\Users\\Cyril\\anaconda3\\envs\\DataScience3_9\\lib\\site-packages\\keras\\utils\\traceback_utils.py:67\u001b[0m, in \u001b[0;36mfilter_traceback.<locals>.error_handler\u001b[1;34m(*args, **kwargs)\u001b[0m\n\u001b[0;32m     65\u001b[0m \u001b[39mexcept\u001b[39;00m \u001b[39mException\u001b[39;00m \u001b[39mas\u001b[39;00m e:  \u001b[39m# pylint: disable=broad-except\u001b[39;00m\n\u001b[0;32m     66\u001b[0m   filtered_tb \u001b[39m=\u001b[39m _process_traceback_frames(e\u001b[39m.\u001b[39m__traceback__)\n\u001b[1;32m---> 67\u001b[0m   \u001b[39mraise\u001b[39;00m e\u001b[39m.\u001b[39mwith_traceback(filtered_tb) \u001b[39mfrom\u001b[39;00m \u001b[39mNone\u001b[39m\n\u001b[0;32m     68\u001b[0m \u001b[39mfinally\u001b[39;00m:\n\u001b[0;32m     69\u001b[0m   \u001b[39mdel\u001b[39;00m filtered_tb\n",
      "File \u001b[1;32mD:\\System\\Temp\\__autograph_generated_fileg80t9_3h.py:15\u001b[0m, in \u001b[0;36mouter_factory.<locals>.inner_factory.<locals>.tf__train_function\u001b[1;34m(iterator)\u001b[0m\n\u001b[0;32m     13\u001b[0m \u001b[39mtry\u001b[39;00m:\n\u001b[0;32m     14\u001b[0m     do_return \u001b[39m=\u001b[39m \u001b[39mTrue\u001b[39;00m\n\u001b[1;32m---> 15\u001b[0m     retval_ \u001b[39m=\u001b[39m ag__\u001b[39m.\u001b[39mconverted_call(ag__\u001b[39m.\u001b[39mld(step_function), (ag__\u001b[39m.\u001b[39mld(\u001b[39mself\u001b[39m), ag__\u001b[39m.\u001b[39mld(iterator)), \u001b[39mNone\u001b[39;00m, fscope)\n\u001b[0;32m     16\u001b[0m \u001b[39mexcept\u001b[39;00m:\n\u001b[0;32m     17\u001b[0m     do_return \u001b[39m=\u001b[39m \u001b[39mFalse\u001b[39;00m\n",
      "\u001b[1;31mValueError\u001b[0m: in user code:\n\n    File \"c:\\Users\\Cyril\\anaconda3\\envs\\DataScience3_9\\lib\\site-packages\\keras\\engine\\training.py\", line 1051, in train_function  *\n        return step_function(self, iterator)\n    File \"c:\\Users\\Cyril\\anaconda3\\envs\\DataScience3_9\\lib\\site-packages\\keras\\engine\\training.py\", line 1040, in step_function  **\n        outputs = model.distribute_strategy.run(run_step, args=(data,))\n    File \"c:\\Users\\Cyril\\anaconda3\\envs\\DataScience3_9\\lib\\site-packages\\keras\\engine\\training.py\", line 1030, in run_step  **\n        outputs = model.train_step(data)\n    File \"c:\\Users\\Cyril\\anaconda3\\envs\\DataScience3_9\\lib\\site-packages\\keras\\engine\\training.py\", line 889, in train_step\n        y_pred = self(x, training=True)\n    File \"c:\\Users\\Cyril\\anaconda3\\envs\\DataScience3_9\\lib\\site-packages\\keras\\utils\\traceback_utils.py\", line 67, in error_handler\n        raise e.with_traceback(filtered_tb) from None\n    File \"c:\\Users\\Cyril\\anaconda3\\envs\\DataScience3_9\\lib\\site-packages\\keras\\engine\\input_spec.py\", line 264, in assert_input_compatibility\n        raise ValueError(f'Input {input_index} of layer \"{layer_name}\" is '\n\n    ValueError: Input 0 of layer \"model_1\" is incompatible with the layer: expected shape=(None, 3, 4), found shape=(1, 1, 3, 4)\n"
     ]
    }
   ],
   "source": [
    "model.fit([X_features, X_store_nbrs, X_family_indices], y_targets,\n",
    "          epochs=1, batch_size=1, validation_split=0.1, verbose=1)"
   ]
  },
  {
   "cell_type": "code",
   "execution_count": null,
   "metadata": {},
   "outputs": [],
   "source": []
  }
 ],
 "metadata": {
  "kernelspec": {
   "display_name": "Python 3.9.12 ('data-science-3-9')",
   "language": "python",
   "name": "python3"
  },
  "language_info": {
   "codemirror_mode": {
    "name": "ipython",
    "version": 3
   },
   "file_extension": ".py",
   "mimetype": "text/x-python",
   "name": "python",
   "nbconvert_exporter": "python",
   "pygments_lexer": "ipython3",
   "version": "3.9.12"
  },
  "orig_nbformat": 4,
  "vscode": {
   "interpreter": {
    "hash": "a7a98c33aaa21315818233e3bcaf359aaa7eabf16443f8a1d7d5226717c8988b"
   }
  }
 },
 "nbformat": 4,
 "nbformat_minor": 2
}
